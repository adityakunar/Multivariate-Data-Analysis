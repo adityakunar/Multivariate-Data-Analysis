{
 "cells": [
  {
   "cell_type": "code",
   "execution_count": 123,
   "metadata": {},
   "outputs": [],
   "source": [
    "#importing necessary libraries.\n",
    "import numpy as np\n",
    "import sklearn\n",
    "from sklearn import *\n",
    "import pandas as pd\n",
    "import matplotlib.pyplot as plt\n",
    "#function to sample only positive values from a guassian.\n",
    "def posOnly(fi):\n",
    "    correct=False\n",
    "    val=0\n",
    "    while(correct==False):\n",
    "        a= np.random.normal(fi,1)\n",
    "        if a>0:\n",
    "            val=a\n",
    "            correct=True\n",
    "    return val        \n",
    "#function to sample only negative values from a guassian.\n",
    "def negOnly(fi):\n",
    "    correct=False\n",
    "    val=0\n",
    "    while(correct==False):\n",
    "        a= np.random.normal(fi,1)\n",
    "        if a<0:\n",
    "            val=a\n",
    "            correct=True\n",
    "    return val"
   ]
  },
  {
   "cell_type": "code",
   "execution_count": 124,
   "metadata": {},
   "outputs": [],
   "source": [
    "#reading in the train and test data.\n",
    "train= pd.read_csv(\"train.csv\")\n",
    "test= pd.read_csv(\"testX.csv\")"
   ]
  },
  {
   "cell_type": "code",
   "execution_count": 125,
   "metadata": {},
   "outputs": [],
   "source": [
    "#defining the target based on the data.\n",
    "target= train[\"y\"]\n",
    "train= train.drop(columns=[\"y\"])"
   ]
  },
  {
   "cell_type": "code",
   "execution_count": 126,
   "metadata": {},
   "outputs": [],
   "source": [
    "#computing the gamma parameter to be passed into the kernel function comprising of the length scale.\n",
    "gammaC=0.5/np.sum(train.mean(axis=0)**2)\n",
    "gammaC_st= 0.5/np.sum(train.mean(axis=0)**2)\n",
    "gammaR= 0.5/np.sum(pd.concat([train,test]).mean(axis=0)**2)"
   ]
  },
  {
   "cell_type": "code",
   "execution_count": 127,
   "metadata": {},
   "outputs": [],
   "source": [
    "#computing the covariance matrix using rbf kernel for train, test data and train & test data points combined.\n",
    "C_star=sklearn.metrics.pairwise.rbf_kernel(test, Y=None, gamma=gammaC) + np.eye(3,3)*0.00001\n",
    "C=sklearn.metrics.pairwise.rbf_kernel(train, Y=None, gamma=gammaC_st) + np.eye(100,100)*0.00001\n",
    "R=sklearn.metrics.pairwise.rbf_kernel(train, Y=test,gamma=gammaR) + np.eye(100,3)*0.00001"
   ]
  },
  {
   "cell_type": "code",
   "execution_count": 128,
   "metadata": {},
   "outputs": [],
   "source": [
    "#initialising the auxialiary varaible ie z vector.\n",
    "import random\n",
    "z=[]\n",
    "for i in target:\n",
    "    if i==1:\n",
    "        z.append(random.uniform(0.0001, 10))\n",
    "    else:\n",
    "        z.append(random.uniform(-10, -0.0001))\n",
    "zvec= np.array(z)\n",
    "zvec=zvec.reshape((100,1))"
   ]
  },
  {
   "cell_type": "code",
   "execution_count": 131,
   "metadata": {},
   "outputs": [],
   "source": [
    "#compute updated covariance for P(F|z,Y)\n",
    "f_c=np.linalg.inv(np.linalg.inv(C) + np.eye(100,100))\n",
    "#computing the covariance for f_star.\n",
    "f_st_c= C_star - np.dot(np.dot(R.T,np.linalg.inv(C)),R)\n",
    "#list to store predictions for test data.\n",
    "predictions=[]\n",
    "#list to store z values for test data.\n",
    "z_stars=[]\n",
    "for i in range(0,10000):\n",
    "    f_m= np.dot(f_c,zvec) #computing the mean for P(F|z,Y)\n",
    "    f_samples=np.random.multivariate_normal(f_m.flatten(), f_c, 1).T #generate the samples for P(F|z,Y)\n",
    "    for i in range(100):\n",
    "        if target[i] == 0:\n",
    "            val=negOnly(f_samples[i]) #sample from the conditional P(z_i|f_i,Y=0).\n",
    "            zvec[i]=val\n",
    "        else:\n",
    "            val=posOnly(f_samples[i])#sample from the conditional P(z_i|f_i,Y=1).\n",
    "            zvec[i]=val\n",
    "    #computing the mean for f_star\n",
    "    f_st_m= np.dot(np.dot(R.T,np.linalg.inv(C)),f_samples)\n",
    "    #generating samples from f_star.\n",
    "    f_star_samples = np.random.multivariate_normal(f_st_m.flatten(), f_st_c, 1).T\n",
    "    #generating z values from f_star.\n",
    "    z_star=np.random.multivariate_normal(f_star_samples.flatten(),np.eye(3,3), 1).T\n",
    "    #making predictions based on z star values.\n",
    "    pred= [0 if i<0 else 1 for i in z_star]\n",
    "    #adding the predictions and z star values for each iteration to the list.\n",
    "    predictions.append(pred)\n",
    "    z_stars.append(z_star)"
   ]
  },
  {
   "cell_type": "code",
   "execution_count": 130,
   "metadata": {},
   "outputs": [
    {
     "name": "stdout",
     "output_type": "stream",
     "text": [
      "Predictive Probabilities for rows 1,2 and 17: \n"
     ]
    },
    {
     "data": {
      "text/plain": [
       "0    0.5010\n",
       "1    0.4907\n",
       "2    0.4983\n",
       "dtype: float64"
      ]
     },
     "execution_count": 130,
     "metadata": {},
     "output_type": "execute_result"
    }
   ],
   "source": [
    "#printing predictive probabilities.\n",
    "print(\"Predictive Probabilities for rows 1,2 and 17: \")\n",
    "pd.DataFrame(predictions).mean()"
   ]
  },
  {
   "cell_type": "code",
   "execution_count": 132,
   "metadata": {},
   "outputs": [],
   "source": [
    "#code for generating histogram.\n",
    "preds= pd.DataFrame(predictions)\n",
    "zl=[list(i) for i in z_stars]\n",
    "zstars= pd.DataFrame(zl)\n",
    "z1=[]\n",
    "for i in zstars[0]:\n",
    "    for j in i:\n",
    "        z1.append(float(j))\n",
    "z2=[]\n",
    "for i in zstars[1]:\n",
    "    for j in i:\n",
    "        z2.append(float(j))\n",
    "z17=[]\n",
    "for i in zstars[2]:\n",
    "    for j in i:\n",
    "        z17.append(float(j))  "
   ]
  },
  {
   "cell_type": "code",
   "execution_count": 133,
   "metadata": {},
   "outputs": [
    {
     "data": {
      "image/png": "[encoded data removed]",
      "text/plain": [
       "<Figure size 432x288 with 1 Axes>"
      ]
     },
     "metadata": {
      "needs_background": "light"
     },
     "output_type": "display_data"
    }
   ],
   "source": [
    "#predictions for row 1 histogram\n",
    "plt.hist(preds[0])\n",
    "plt.show()"
   ]
  },
  {
   "cell_type": "code",
   "execution_count": 99,
   "metadata": {},
   "outputs": [
    {
     "data": {
      "image/png": "[encoded data removed]",
      "text/plain": [
       "<Figure size 432x288 with 1 Axes>"
      ]
     },
     "metadata": {
      "needs_background": "light"
     },
     "output_type": "display_data"
    }
   ],
   "source": [
    "#predictions for row 2 histogram\n",
    "plt.hist(preds[1])\n",
    "plt.show()"
   ]
  },
  {
   "cell_type": "code",
   "execution_count": 100,
   "metadata": {},
   "outputs": [
    {
     "data": {
      "image/png": "[encoded data removed]",
      "text/plain": [
       "<Figure size 432x288 with 1 Axes>"
      ]
     },
     "metadata": {
      "needs_background": "light"
     },
     "output_type": "display_data"
    }
   ],
   "source": [
    "#predictions for row 17 histogram\n",
    "plt.hist(preds[2])\n",
    "plt.show()"
   ]
  },
  {
   "cell_type": "code",
   "execution_count": 101,
   "metadata": {},
   "outputs": [
    {
     "data": {
      "image/png": "[encoded data removed]",
      "text/plain": [
       "<Figure size 432x288 with 1 Axes>"
      ]
     },
     "metadata": {
      "needs_background": "light"
     },
     "output_type": "display_data"
    }
   ],
   "source": [
    "#z values for row 1 histogram\n",
    "plt.hist(z1,bins=20)\n",
    "plt.show()"
   ]
  },
  {
   "cell_type": "code",
   "execution_count": 102,
   "metadata": {},
   "outputs": [
    {
     "data": {
      "image/png": "[encoded data removed]",
      "text/plain": [
       "<Figure size 432x288 with 1 Axes>"
      ]
     },
     "metadata": {
      "needs_background": "light"
     },
     "output_type": "display_data"
    }
   ],
   "source": [
    "#z values for row 2 histogram\n",
    "plt.hist(z2,bins=20)\n",
    "plt.show()"
   ]
  },
  {
   "cell_type": "code",
   "execution_count": 103,
   "metadata": {},
   "outputs": [
    {
     "data": {
      "image/png": "[encoded data removed]",
      "text/plain": [
       "<Figure size 432x288 with 1 Axes>"
      ]
     },
     "metadata": {
      "needs_background": "light"
     },
     "output_type": "display_data"
    }
   ],
   "source": [
    "#z values for row 17 histogram\n",
    "plt.hist(z17,bins=20)\n",
    "plt.show()"
   ]
  }
 ],
 "metadata": {
  "kernelspec": {
   "display_name": "Python 3",
   "language": "python",
   "name": "python3"
  },
  "language_info": {
   "codemirror_mode": {
    "name": "ipython",
    "version": 3
   },
   "file_extension": ".py",
   "mimetype": "text/x-python",
   "name": "python",
   "nbconvert_exporter": "python",
   "pygments_lexer": "ipython3",
   "version": "3.7.3"
  }
 },
 "nbformat": 4,
 "nbformat_minor": 2
}
