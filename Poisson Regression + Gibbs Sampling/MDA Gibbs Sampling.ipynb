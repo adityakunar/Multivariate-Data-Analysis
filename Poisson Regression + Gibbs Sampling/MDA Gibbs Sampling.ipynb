{
 "cells": [
  {
   "cell_type": "code",
   "execution_count": 1,
   "metadata": {},
   "outputs": [],
   "source": [
    "#importing necessary libraries. \n",
    "import numpy as np\n",
    "import matplotlib.pyplot as plt\n",
    "import pandas as pd\n",
    "import math \n",
    "import random"
   ]
  },
  {
   "cell_type": "code",
   "execution_count": 2,
   "metadata": {},
   "outputs": [],
   "source": [
    "#reading in the data.\n",
    "data = pd.read_csv(\"dataexercise2.csv\")"
   ]
  },
  {
   "cell_type": "code",
   "execution_count": 3,
   "metadata": {},
   "outputs": [],
   "source": [
    "#creating the design matrix.\n",
    "x=data.drop(columns=[\"y\"])"
   ]
  },
  {
   "cell_type": "code",
   "execution_count": 4,
   "metadata": {},
   "outputs": [],
   "source": [
    "#creating the target column vector and also the log of the factorial of the target vector. \n",
    "y = data[\"y\"]\n",
    "logyf= [np.log(math.factorial(i)) for i in y]"
   ]
  },
  {
   "cell_type": "code",
   "execution_count": 5,
   "metadata": {},
   "outputs": [],
   "source": [
    "#function to compute the new sigma from the inv-gamma distribution. \n",
    "def sample_sigma(theta, alpha, beta):\n",
    "    alpha_new = (alpha + 2)\n",
    "    beta_new = (beta + (np.dot(theta.T,theta))/2)\n",
    "    return (1/np.random.gamma(alpha_new, (1/beta_new)))"
   ]
  },
  {
   "cell_type": "code",
   "execution_count": 6,
   "metadata": {},
   "outputs": [
    {
     "name": "stdout",
     "output_type": "stream",
     "text": [
      "Acceptance Rate: 36.45833333333333\n"
     ]
    }
   ],
   "source": [
    "#Gibbs Sampling using the MH algorithm for theta. \n",
    "alpha = beta= 0.1 #initialising alpha and beta for the inv-gamma distribution.\n",
    "acc_count=0 #variable to compute the acceptance rate.\n",
    "theta_samples = [] #list to store all the theta samples.\n",
    "sig_sq_samples =[] #list to store all the sigma square samples\n",
    "theta = np.random.randn(4,1) #initialising theta with a random value.\n",
    "sigma_prop = 0.067 # standard deviation of gaussian proposal\n",
    "n_samps = 2400 # number of samples to take\n",
    "sig_sq = (1/np.random.gamma(alpha, (1/beta))) # initial variance for the prior theta. Using 1/beta as python uses the scale parameter. \n",
    "for samp in range(n_samps):\n",
    "    # generate theta_new as per the random walk proposal. \n",
    "    theta_new = theta + np.random.randn(4,1)*sigma_prop\n",
    "    # computing the posterior ratio of theta_new and theta. Here the new sig_sq sample is used in each iteration.\n",
    "    r = -(1.0/(2.0*sig_sq))*np.dot(theta_new.T,theta_new).flatten()\n",
    "    r -= -(1.0/(2.0*sig_sq))*np.dot(theta.T,theta).flatten() \n",
    "    P_new = np.exp(np.dot(x,theta_new))\n",
    "    P = np.exp(np.dot(x,theta))\n",
    "    r += np.sum(np.multiply(y,np.dot(x,theta_new).flatten()) - P_new.flatten()-logyf)\n",
    "    r -= np.sum(np.multiply(y,np.dot(x,theta).flatten()) - P.flatten()-logyf)\n",
    "    #since the ratio is in log form, i remove the log to perform the acceptance criteria.\n",
    "    if np.exp(r)>=1:\n",
    "        # accept if ratio is greater than or equal to 1.\n",
    "        theta = theta_new\n",
    "        acc_count+=1\n",
    "    else:\n",
    "        if random.uniform(0,1) <= np.exp(r):\n",
    "            # if ratio is less than 1, accept if the ratio is higher than random number generated uniformly between 0 and 1.\n",
    "            theta = theta_new\n",
    "            acc_count+=1\n",
    "        else:\n",
    "            # otherwise reject\n",
    "            pass\n",
    "        \n",
    "    theta_samples.append(theta.flatten())#appending the newly generated sample to the list.\n",
    "    sig_sq=sample_sigma(theta.flatten(),alpha,beta)#sampling the sig_sq using the latest sample for theta.\n",
    "    sig_sq_samples.append(sig_sq)#appending the newly generated sample to the list.\n",
    "print(\"Acceptance Rate: \" + str((acc_count/n_samps)*100))# printing acceptance rate."
   ]
  },
  {
   "cell_type": "code",
   "execution_count": 7,
   "metadata": {},
   "outputs": [
    {
     "data": {
      "image/png": "[encoded data removed]",
      "text/plain": [
       "<Figure size 432x288 with 1 Axes>"
      ]
     },
     "metadata": {
      "needs_background": "light"
     },
     "output_type": "display_data"
    }
   ],
   "source": [
    "#creating the trace plot. \n",
    "plt.plot(sig_sq_samples)\n",
    "plt.xlabel(\"Iteration No.\")\n",
    "plt.ylabel(\"Sigma Square\")\n",
    "plt.show()"
   ]
  },
  {
   "cell_type": "code",
   "execution_count": null,
   "metadata": {},
   "outputs": [],
   "source": []
  }
 ],
 "metadata": {
  "kernelspec": {
   "display_name": "Python 3",
   "language": "python",
   "name": "python3"
  },
  "language_info": {
   "codemirror_mode": {
    "name": "ipython",
    "version": 3
   },
   "file_extension": ".py",
   "mimetype": "text/x-python",
   "name": "python",
   "nbconvert_exporter": "python",
   "pygments_lexer": "ipython3",
   "version": "3.7.3"
  }
 },
 "nbformat": 4,
 "nbformat_minor": 2
}
