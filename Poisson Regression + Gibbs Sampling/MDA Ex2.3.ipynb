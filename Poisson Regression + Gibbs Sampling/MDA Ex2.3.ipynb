{
 "cells": [
  {
   "cell_type": "code",
   "execution_count": 1,
   "metadata": {},
   "outputs": [],
   "source": [
    "#importing the necessary libraries.\n",
    "import numpy as np\n",
    "import pandas as pd"
   ]
  },
  {
   "cell_type": "code",
   "execution_count": 2,
   "metadata": {},
   "outputs": [],
   "source": [
    "#reading in the data.\n",
    "data = pd.read_csv(\"dataexercise2.csv\")"
   ]
  },
  {
   "cell_type": "code",
   "execution_count": 3,
   "metadata": {},
   "outputs": [],
   "source": [
    "# Creating the design matrix.\n",
    "x=data.drop(columns=[\"y\"])"
   ]
  },
  {
   "cell_type": "code",
   "execution_count": 4,
   "metadata": {},
   "outputs": [],
   "source": [
    "# Creating the target column vector.\n",
    "y = data[\"y\"]"
   ]
  },
  {
   "cell_type": "code",
   "execution_count": 5,
   "metadata": {},
   "outputs": [],
   "source": [
    "# setting the variance for theta (assuming mean zero).\n",
    "sig_sq = 25 "
   ]
  },
  {
   "cell_type": "code",
   "execution_count": 6,
   "metadata": {},
   "outputs": [],
   "source": [
    "#Function for calculating the gradient of the log likelihood.\n",
    "def gradient(theta,x,y,sig_sq):\n",
    "    P = np.exp(np.dot(x,theta))\n",
    "    P = P.flatten()\n",
    "    return (((-1.0/sig_sq)*theta).T + np.dot(x.T,y-P)).T"
   ]
  },
  {
   "cell_type": "code",
   "execution_count": 7,
   "metadata": {},
   "outputs": [],
   "source": [
    "#Function for calculating the hessian of the log likelihood.\n",
    "def hessian(theta,x,y,sig_sq):\n",
    "    P = np.exp(np.dot(x,theta))\n",
    "    P = P.flatten() # required for the diagonalisation\n",
    "    return (-(1.0/sig_sq)*np.eye(len(theta)) - np.dot(x.T,np.dot(np.diag(P),x)))"
   ]
  },
  {
   "cell_type": "code",
   "execution_count": 8,
   "metadata": {},
   "outputs": [],
   "source": [
    "#initializing theta.\n",
    "theta = np.zeros((4,1))"
   ]
  },
  {
   "cell_type": "code",
   "execution_count": 9,
   "metadata": {},
   "outputs": [],
   "source": [
    "#Calculating the MAP estimate of theta using Newton's Raphson Method.\n",
    "for i in range(10):\n",
    "    theta = theta - np.dot(np.linalg.inv(hessian(theta,x,y,sig_sq)),gradient(theta,x,y,sig_sq))\n",
    "    "
   ]
  },
  {
   "cell_type": "code",
   "execution_count": 10,
   "metadata": {},
   "outputs": [
    {
     "name": "stdout",
     "output_type": "stream",
     "text": [
      "The MAP estimate for theta is [ 1.12649475  0.42890301  0.01506197 -0.05408826]\n"
     ]
    }
   ],
   "source": [
    "print(\"The MAP estimate for theta is \" + str(theta.flatten()))"
   ]
  },
  {
   "cell_type": "code",
   "execution_count": 11,
   "metadata": {},
   "outputs": [],
   "source": [
    "#Calculating the Covariance matrix for the laplace approximation. \n",
    "Laplace_Covariance_Matrix = np.linalg.inv(-hessian(theta.flatten(),x,y,sig_sq))"
   ]
  },
  {
   "cell_type": "code",
   "execution_count": 12,
   "metadata": {},
   "outputs": [
    {
     "name": "stdout",
     "output_type": "stream",
     "text": [
      "The covariance for the Laplace Approximation is \n",
      "[[ 0.0313798  -0.00819078  0.0011658  -0.00139297]\n",
      " [-0.00819078  0.00305527 -0.00031135  0.00066121]\n",
      " [ 0.0011658  -0.00031135  0.01480116 -0.00146565]\n",
      " [-0.00139297  0.00066121 -0.00146565  0.01172734]]\n"
     ]
    }
   ],
   "source": [
    "print(\"The covariance for the Laplace Approximation is \\n\" +str(Laplace_Covariance_Matrix))"
   ]
  }
 ],
 "metadata": {
  "kernelspec": {
   "display_name": "Python 3",
   "language": "python",
   "name": "python3"
  },
  "language_info": {
   "codemirror_mode": {
    "name": "ipython",
    "version": 3
   },
   "file_extension": ".py",
   "mimetype": "text/x-python",
   "name": "python",
   "nbconvert_exporter": "python",
   "pygments_lexer": "ipython3",
   "version": "3.7.3"
  }
 },
 "nbformat": 4,
 "nbformat_minor": 2
}
