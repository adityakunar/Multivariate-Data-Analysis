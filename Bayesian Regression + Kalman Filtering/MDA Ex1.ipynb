{
 "cells": [
  {
   "cell_type": "code",
   "execution_count": 1,
   "metadata": {},
   "outputs": [],
   "source": [
    "#importing the necessary libraries.\n",
    "import numpy as np\n",
    "import pandas as pd\n",
    "import matplotlib.pyplot as plt"
   ]
  },
  {
   "cell_type": "code",
   "execution_count": 2,
   "metadata": {},
   "outputs": [],
   "source": [
    "#reading in the data.\n",
    "data= pd.read_csv(\"SalaryData.csv\")"
   ]
  },
  {
   "cell_type": "code",
   "execution_count": 3,
   "metadata": {},
   "outputs": [],
   "source": [
    "#creating the respective column vectors for the design matrix.\n",
    "ones=[1 for i in range(0,len(data))]\n",
    "YE_1 =data[\"YearsExperience\"]\n",
    "YE_2=YE_1**2\n",
    "YE_3= YE_1**3"
   ]
  },
  {
   "cell_type": "code",
   "execution_count": 4,
   "metadata": {},
   "outputs": [],
   "source": [
    "#creating a pandas dataframe object which represents the design matrix H of shape 30x4. \n",
    "H = pd.DataFrame({\"ones\":ones,\n",
    "                  \"YrsExp\":YE_1,\n",
    "                  \"YrsExp_Sq\":YE_2,\n",
    "                  \"YrsExp_Cb\":YE_3,\n",
    "                 })"
   ]
  },
  {
   "cell_type": "code",
   "execution_count": 5,
   "metadata": {},
   "outputs": [],
   "source": [
    "#creating the target column vector Y of shape 30x1.\n",
    "Y= data[\"Salary\"]"
   ]
  },
  {
   "cell_type": "code",
   "execution_count": 6,
   "metadata": {},
   "outputs": [],
   "source": [
    "#initialising the mean and the covariance for the parameter vector theta.\n",
    "previous_mean = [40000,0,0,0]\n",
    "previous_cov = np.eye(4)*100\n",
    "#setting the std_dev of the measurment\n",
    "std_dev=250"
   ]
  },
  {
   "cell_type": "code",
   "execution_count": 7,
   "metadata": {},
   "outputs": [],
   "source": [
    "#computing the new mean and covariance of the parameter vector theta after first 10 observations.\n",
    "for i in range(1,11):\n",
    "    #For each iteration, one row from H and Y is being used.\n",
    "    h = H[i-1:i] \n",
    "    y = Y[i-1:i] \n",
    "    #calculating the new mean and covariance based on the posterior distribution of theta.\n",
    "    new_cov = np.linalg.inv((1.0/std_dev**2)*np.dot(h.T,h) + np.linalg.inv(previous_cov))\n",
    "    new_mean = np.dot(new_cov,(1.0/std_dev**2)*np.dot(h.T,y) + np.dot(np.linalg.inv(previous_cov),previous_mean))\n",
    "    #for the next iteration, updating the values of the previous mean and covariance.\n",
    "    previous_cov= new_cov\n",
    "    previous_mean =new_mean"
   ]
  },
  {
   "cell_type": "code",
   "execution_count": 8,
   "metadata": {},
   "outputs": [
    {
     "name": "stdout",
     "output_type": "stream",
     "text": [
      "The new mean vector for theta after first 10 observations:[4.00580979e+04 1.98796186e+02 5.67332265e+02 3.41185030e+01]\n"
     ]
    }
   ],
   "source": [
    "print(\"The new mean vector for theta after first 10 observations:\" + str(new_mean))"
   ]
  },
  {
   "cell_type": "code",
   "execution_count": 9,
   "metadata": {},
   "outputs": [
    {
     "name": "stdout",
     "output_type": "stream",
     "text": [
      "The new covariance matrix for theta after first 10 observations:\n",
      "[[ 98.99731623  -1.95964335  -3.57467222   0.2673962 ]\n",
      " [ -1.95964335  95.3294411  -10.38902585  -0.1321786 ]\n",
      " [ -3.57467222 -10.38902585  72.06425626  -8.32226437]\n",
      " [  0.2673962   -0.1321786   -8.32226437   1.07892547]]\n"
     ]
    }
   ],
   "source": [
    "print(\"The new covariance matrix for theta after first 10 observations:\\n\" + str(new_cov))"
   ]
  },
  {
   "cell_type": "code",
   "execution_count": 10,
   "metadata": {},
   "outputs": [],
   "source": [
    "#initialising the mean and the covariance for the parameter vector theta.\n",
    "previous_mean = [40000,0,0,0]\n",
    "previous_cov = np.eye(4)*100\n",
    "#std_dev of the measurment\n",
    "std_dev=250"
   ]
  },
  {
   "cell_type": "code",
   "execution_count": 11,
   "metadata": {},
   "outputs": [],
   "source": [
    "#computing the new mean and covariance of the parameter vector theta after 30 observations.\n",
    "for i in range(1,31):\n",
    "    #For each iteration, one row from H and Y is being used.\n",
    "    h = H[i-1:i] \n",
    "    y = Y[i-1:i] \n",
    "    #calculating the new mean and covariance based on the posterior distribution of theta.\n",
    "    new_cov = np.linalg.inv((1.0/std_dev**2)*np.dot(h.T,h) + np.linalg.inv(previous_cov))\n",
    "    new_mean = np.dot(new_cov,(1.0/std_dev**2)*np.dot(h.T,y) + np.dot(np.linalg.inv(previous_cov),previous_mean))\n",
    "    #for the next iteration, updating the values of the previous mean and covariance.\n",
    "    previous_cov= new_cov\n",
    "    previous_mean =new_mean"
   ]
  },
  {
   "cell_type": "code",
   "execution_count": 12,
   "metadata": {},
   "outputs": [
    {
     "name": "stdout",
     "output_type": "stream",
     "text": [
      "The new mean vector for theta after 30 observations:[40072.17057539   355.67982027  1324.71598938   -53.82422696]\n"
     ]
    }
   ],
   "source": [
    "print(\"The new mean vector for theta after 30 observations:\" + str(new_mean))"
   ]
  },
  {
   "cell_type": "code",
   "execution_count": 13,
   "metadata": {},
   "outputs": [
    {
     "name": "stdout",
     "output_type": "stream",
     "text": [
      "The new covariance matrix for theta after 30 observations:\n",
      "[[ 98.74096776  -2.7336052   -5.02986195   0.43689653]\n",
      " [ -2.7336052   91.88701872 -21.13117985   1.17950301]\n",
      " [ -5.02986195 -21.13117985  26.78638907  -2.63424452]\n",
      " [  0.43689653   1.17950301  -2.63424452   0.28046664]]\n"
     ]
    }
   ],
   "source": [
    "print(\"The new covariance matrix for theta after 30 observations:\\n\" + str(new_cov))"
   ]
  },
  {
   "cell_type": "code",
   "execution_count": 14,
   "metadata": {},
   "outputs": [
    {
     "name": "stdout",
     "output_type": "stream",
     "text": [
      "The parameter vector theta is : [[40069.27271109   350.85017957  1333.02380048   -54.58591575]]\n"
     ]
    }
   ],
   "source": [
    "#generating the parameters from a multivariate gaussian distribution with the updated mean and covariance.\n",
    "parameters = np.random.multivariate_normal(new_mean, new_cov, 1).T\n",
    "print(\"The parameter vector theta is : \" + str(parameters.T))"
   ]
  },
  {
   "cell_type": "code",
   "execution_count": 15,
   "metadata": {},
   "outputs": [],
   "source": [
    "#Calculating the predictions utilising the latest parameter vector theta and the design matrix H.\n",
    "Y_sal=[float(np.dot(H[i:i+1],parameters)) for i in range(0,len(data))] "
   ]
  },
  {
   "cell_type": "code",
   "execution_count": 16,
   "metadata": {},
   "outputs": [
    {
     "data": {
      "image/png": "[encoded data removed]",
      "text/plain": [
       "<Figure size 432x288 with 1 Axes>"
      ]
     },
     "metadata": {
      "needs_background": "light"
     },
     "output_type": "display_data"
    }
   ],
   "source": [
    "#plotting the fitted curve along with the observed data.\n",
    "x = list(YE_1)\n",
    "y = list(Y)\n",
    "area = np.pi*3\n",
    "plt.scatter(x, y, s=area, alpha=0.5)\n",
    "plt.xlabel('YearsExp')\n",
    "plt.ylabel('Salary')\n",
    "x.sort()\n",
    "Y_sal.sort()\n",
    "plt.plot(x, Y_sal)\n",
    "plt.show()"
   ]
  },
  {
   "cell_type": "code",
   "execution_count": 17,
   "metadata": {},
   "outputs": [],
   "source": [
    "#initialising the mean and the covariance for the parameter vector theta.\n",
    "previous_mean = [40000,0,0,0]\n",
    "previous_cov = np.eye(4)*100\n",
    "#setting the std_dev of the measurment\n",
    "std_dev=250"
   ]
  },
  {
   "cell_type": "code",
   "execution_count": 18,
   "metadata": {},
   "outputs": [],
   "source": [
    "#computing the new mean and covariance of the parameter vector theta after 30 observations using the woodbury matrix identity\n",
    "for i in range(1,31):\n",
    "    #For each iteration, one row from H and Y is being used.\n",
    "    h = H[i-1:i]\n",
    "    y = Y[i-1:i]\n",
    "    #calculating the new mean and covariance based on the posterior distribution of theta.\n",
    "    new_cov = previous_cov - np.dot(np.dot(np.dot(previous_cov,h.T),np.linalg.inv(np.add(np.dot(np.dot(h,previous_cov),h.T),std_dev**2))),np.dot(h,previous_cov))\n",
    "    new_mean = np.dot(new_cov,(1.0/std_dev**2)*np.dot(h.T,y) + np.dot(np.linalg.inv(previous_cov),previous_mean))\n",
    "    #for the next iteration, updating the values of the previous mean and covariance.\n",
    "    previous_mean =new_mean\n",
    "    previous_cov= new_cov"
   ]
  },
  {
   "cell_type": "code",
   "execution_count": 19,
   "metadata": {},
   "outputs": [
    {
     "name": "stdout",
     "output_type": "stream",
     "text": [
      "The new mean vector for theta after 30 observations:[40072.17057539   355.67982027  1324.71598938   -53.82422696]\n"
     ]
    }
   ],
   "source": [
    "print(\"The new mean vector for theta after 30 observations:\" + str(new_mean))"
   ]
  },
  {
   "cell_type": "code",
   "execution_count": 20,
   "metadata": {},
   "outputs": [
    {
     "name": "stdout",
     "output_type": "stream",
     "text": [
      "The new covariance matrix for theta after 30 observations:\n",
      "[[ 98.74096776  -2.7336052   -5.02986195   0.43689653]\n",
      " [ -2.7336052   91.88701872 -21.13117985   1.17950301]\n",
      " [ -5.02986195 -21.13117985  26.78638907  -2.63424452]\n",
      " [  0.43689653   1.17950301  -2.63424452   0.28046664]]\n"
     ]
    }
   ],
   "source": [
    "print(\"The new covariance matrix for theta after 30 observations:\\n\" + str(new_cov))"
   ]
  },
  {
   "cell_type": "code",
   "execution_count": 21,
   "metadata": {},
   "outputs": [
    {
     "name": "stdout",
     "output_type": "stream",
     "text": [
      "The parameter vector theta is : [[40067.76744828   349.66889652  1323.6917115    -53.55342323]]\n"
     ]
    }
   ],
   "source": [
    "#generating the parameters from a multivariate gaussian distribution with the updated mean and covariance.\n",
    "parameters = np.random.multivariate_normal(new_mean, new_cov, 1).T\n",
    "print(\"The parameter vector theta is : \" + str(parameters.T))"
   ]
  },
  {
   "cell_type": "code",
   "execution_count": 22,
   "metadata": {},
   "outputs": [],
   "source": [
    "#Calculating the predictions utilising the latest parameter vector theta and the design matrix H.\n",
    "Y_sal=[float(np.dot(H[i:i+1],parameters)) for i in range(0,len(data))] "
   ]
  },
  {
   "cell_type": "code",
   "execution_count": 23,
   "metadata": {},
   "outputs": [
    {
     "data": {
      "image/png": "[encoded data removed]",
      "text/plain": [
       "<Figure size 432x288 with 1 Axes>"
      ]
     },
     "metadata": {
      "needs_background": "light"
     },
     "output_type": "display_data"
    }
   ],
   "source": [
    "#plotting the fitted curve along with the observed data.\n",
    "x = list(YE_1)\n",
    "y = list(Y)\n",
    "area = np.pi*3\n",
    "plt.scatter(x, y, s=area, alpha=0.5)\n",
    "plt.xlabel('YearsExp')\n",
    "plt.ylabel('Salary')\n",
    "x.sort()\n",
    "Y_sal.sort()\n",
    "plt.plot(x, Y_sal)\n",
    "plt.show()"
   ]
  }
 ],
 "metadata": {
  "kernelspec": {
   "display_name": "Python 3",
   "language": "python",
   "name": "python3"
  },
  "language_info": {
   "codemirror_mode": {
    "name": "ipython",
    "version": 3
   },
   "file_extension": ".py",
   "mimetype": "text/x-python",
   "name": "python",
   "nbconvert_exporter": "python",
   "pygments_lexer": "ipython3",
   "version": "3.7.3"
  },
  "latex_envs": {
   "LaTeX_envs_menu_present": true,
   "autoclose": false,
   "autocomplete": true,
   "bibliofile": "biblio.bib",
   "cite_by": "apalike",
   "current_citInitial": 1,
   "eqLabelWithNumbers": true,
   "eqNumInitial": 1,
   "hotkeys": {
    "equation": "Ctrl-E",
    "itemize": "Ctrl-I"
   },
   "labels_anchors": false,
   "latex_user_defs": false,
   "report_style_numbering": false,
   "user_envs_cfg": false
  }
 },
 "nbformat": 4,
 "nbformat_minor": 2
}
