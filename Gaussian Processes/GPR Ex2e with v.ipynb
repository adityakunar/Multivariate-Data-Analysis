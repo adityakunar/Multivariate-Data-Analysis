{
 "cells": [
  {
   "cell_type": "code",
   "execution_count": 2,
   "metadata": {},
   "outputs": [],
   "source": [
    "#importing necessary libraries.\n",
    "import numpy as np\n",
    "import sklearn\n",
    "from sklearn import *\n",
    "import pandas as pd\n",
    "import matplotlib.pyplot as plt\n",
    "#function to sample only positive values from a guassian.\n",
    "def posOnly(fi):\n",
    "    correct=False\n",
    "    val=0\n",
    "    while(correct==False):\n",
    "        a= np.random.normal(fi,1)\n",
    "        if a>0:\n",
    "            val=a\n",
    "            correct=True\n",
    "    return val        \n",
    "#function to sample only negative values from a guassian.\n",
    "def negOnly(fi):\n",
    "    correct=False\n",
    "    val=0\n",
    "    while(correct==False):\n",
    "        a= np.random.normal(fi,1)\n",
    "        if a<0:\n",
    "            val=a\n",
    "            correct=True\n",
    "    return val\n",
    "#function to sample v.\n",
    "def sample_v(f,c):\n",
    "    beta_new = (2 + 0.5*(np.dot(np.dot((f.T),np.linalg.inv(c)),(f))))\n",
    "    return (1/np.random.gamma(52, (1/beta_new)))"
   ]
  },
  {
   "cell_type": "code",
   "execution_count": 3,
   "metadata": {},
   "outputs": [],
   "source": [
    "#reading in the train and test data.\n",
    "train= pd.read_csv(\"train.csv\")\n",
    "test= pd.read_csv(\"testX.csv\")"
   ]
  },
  {
   "cell_type": "code",
   "execution_count": 4,
   "metadata": {},
   "outputs": [],
   "source": [
    "#defining the target based on the data.\n",
    "target= train[\"y\"]\n",
    "train= train.drop(columns=[\"y\"])"
   ]
  },
  {
   "cell_type": "code",
   "execution_count": 5,
   "metadata": {},
   "outputs": [],
   "source": [
    "#computing the gamma parameter to be passed into the kernel function comprising of the length scale.\n",
    "Rdf =pd.concat([train,test])\n",
    "trainsum=0\n",
    "for i in range(1,train.shape[0]):\n",
    "    trainsum+=np.linalg.norm(train[i-1:i])**2\n",
    "l_sq_train = (train.shape[0]*train.shape[1])/trainsum\n",
    "gammaC= (l_sq_train)**-1\n",
    "testsum=0\n",
    "for i in range(1,test.shape[0]):\n",
    "    testsum+=np.linalg.norm(test[i-1:i])**2\n",
    "l_sq_test = (test.shape[0]*test.shape[1])/testsum\n",
    "gammaC_st =(l_sq_test)**-1\n",
    "Rsum=0\n",
    "for i in range(1,Rdf.shape[0]):\n",
    "    Rsum+=np.linalg.norm(Rdf[i-1:i])**2\n",
    "l_sq_R = (Rdf.shape[0]*Rdf.shape[1])/Rsum\n",
    "gammaR = (l_sq_R)**-1"
   ]
  },
  {
   "cell_type": "code",
   "execution_count": 6,
   "metadata": {},
   "outputs": [],
   "source": [
    "#initialising the auxialiary varaible ie z vector.\n",
    "import random\n",
    "z=[]\n",
    "for i in target:\n",
    "    if i==1:\n",
    "        z.append(random.uniform(0.0001, 10))\n",
    "    else:\n",
    "        z.append(random.uniform(-10, -0.0001))\n",
    "zvec= np.array(z)\n",
    "zvec=zvec.reshape((100,1))\n",
    "v= 1/np.random.gamma(2,0.5)"
   ]
  },
  {
   "cell_type": "code",
   "execution_count": 7,
   "metadata": {},
   "outputs": [],
   "source": [
    "#list to store predictions for test data.\n",
    "predictions=[]\n",
    "#list to store z values for test data\n",
    "z_stars=[]\n",
    "for i in range(0,240):\n",
    "    #computing the covariance matrix using rbf kernel and latest v for train, test data and train & test data points combined.\n",
    "    C_star=v*sklearn.metrics.pairwise.rbf_kernel(test, Y=test, gamma=gammaC_st) + np.eye(3,3)*0.00001\n",
    "    C=v*sklearn.metrics.pairwise.rbf_kernel(train, Y=train, gamma=gammaC) + np.eye(100,100)*0.00001\n",
    "    R=v*sklearn.metrics.pairwise.rbf_kernel(train, Y=test,gamma=gammaR) + np.eye(100,3)*0.00001\n",
    "    #compute updated covariance for P(F|z,Y)\n",
    "    f_c=np.linalg.inv(np.linalg.inv(C) + np.eye(100,100))\n",
    "    #computing the covariance for f_star.\n",
    "    f_st_s= C_star - np.dot(np.dot(R.T,np.linalg.inv(C)),R)\n",
    "    #computing the mean for P(F|z,Y)\n",
    "    f_m= np.dot(f_c,zvec)\n",
    "    #generate the samples for P(F|z,Y)\n",
    "    f_samples=np.random.multivariate_normal(f_m.flatten(), f_c, 1).T\n",
    "    for i in range(train.shape[0]):\n",
    "        if target[i] == 0:\n",
    "            val=negOnly(f_samples[i]) #sample from the conditional P(z_i|f_i,Y=0).\n",
    "            zvec[i]=val\n",
    "        else:\n",
    "            val=posOnly(f_samples[i]) #sample from the conditional P(z_i|f_i,Y=1).\n",
    "            zvec[i]=val\n",
    "    #computing the mean for f_star\n",
    "    f_st_m= np.dot(np.dot(R.T,np.linalg.inv(C)),f_samples)\n",
    "    #generating samples from f_star.\n",
    "    f_star_samples = np.random.multivariate_normal(f_st_m.flatten(), f_st_s, 1).T\n",
    "    #generating z values from f_star.\n",
    "    z_star=np.random.multivariate_normal(f_star_samples.flatten(),np.eye(3,3), 1).T\n",
    "    #making predictions based on z star values.\n",
    "    pred= [0 if i<0 else 1 for i in z_star]\n",
    "    predictions.append(pred)\n",
    "    #adding the predictions and z star values for each iteration to the list.\n",
    "    z_stars.append(z_star)\n",
    "    #sampling new value for v.\n",
    "    v = sample_v(f_samples,C)"
   ]
  },
  {
   "cell_type": "code",
   "execution_count": 8,
   "metadata": {},
   "outputs": [
    {
     "name": "stdout",
     "output_type": "stream",
     "text": [
      "Predictive Probabilities for rows 1,2 and 17: \n"
     ]
    },
    {
     "data": {
      "text/plain": [
       "0    0.150000\n",
       "1    0.404167\n",
       "2    0.791667\n",
       "dtype: float64"
      ]
     },
     "execution_count": 8,
     "metadata": {},
     "output_type": "execute_result"
    }
   ],
   "source": [
    "#printing predictive probabilities.\n",
    "print(\"Predictive Probabilities for rows 1,2 and 17: \")\n",
    "pd.DataFrame(predictions).mean()"
   ]
  },
  {
   "cell_type": "code",
   "execution_count": 9,
   "metadata": {},
   "outputs": [],
   "source": [
    "#code for generating histogram.\n",
    "preds= pd.DataFrame(predictions)\n",
    "zl=[list(i) for i in z_stars]\n",
    "zstars= pd.DataFrame(zl)\n",
    "z1=[]\n",
    "for i in zstars[0]:\n",
    "    for j in i:\n",
    "        z1.append(float(j))\n",
    "z2=[]\n",
    "for i in zstars[1]:\n",
    "    for j in i:\n",
    "        z2.append(float(j))\n",
    "z17=[]\n",
    "for i in zstars[2]:\n",
    "    for j in i:\n",
    "        z17.append(float(j))        "
   ]
  },
  {
   "cell_type": "code",
   "execution_count": 10,
   "metadata": {},
   "outputs": [
    {
     "data": {
      "image/png": "[encoded data removed]",
      "text/plain": [
       "<Figure size 432x288 with 1 Axes>"
      ]
     },
     "metadata": {
      "needs_background": "light"
     },
     "output_type": "display_data"
    }
   ],
   "source": [
    "#predictions for row 1 histogram\n",
    "plt.hist(preds[0])\n",
    "plt.show()"
   ]
  },
  {
   "cell_type": "code",
   "execution_count": 11,
   "metadata": {},
   "outputs": [
    {
     "data": {
      "image/png": "[encoded data removed]",
      "text/plain": [
       "<Figure size 432x288 with 1 Axes>"
      ]
     },
     "metadata": {
      "needs_background": "light"
     },
     "output_type": "display_data"
    }
   ],
   "source": [
    "#predictions for row 2 histogram\n",
    "plt.hist(preds[1])\n",
    "plt.show()"
   ]
  },
  {
   "cell_type": "code",
   "execution_count": 12,
   "metadata": {},
   "outputs": [
    {
     "data": {
      "image/png": "[encoded data removed]",
      "text/plain": [
       "<Figure size 432x288 with 1 Axes>"
      ]
     },
     "metadata": {
      "needs_background": "light"
     },
     "output_type": "display_data"
    }
   ],
   "source": [
    "#predictions for row 17 histogram\n",
    "plt.hist(preds[2])\n",
    "plt.show()"
   ]
  },
  {
   "cell_type": "code",
   "execution_count": 13,
   "metadata": {},
   "outputs": [
    {
     "data": {
      "image/png": "[encoded data removed]",
      "text/plain": [
       "<Figure size 432x288 with 1 Axes>"
      ]
     },
     "metadata": {
      "needs_background": "light"
     },
     "output_type": "display_data"
    }
   ],
   "source": [
    "#z values for row 1 histogram\n",
    "plt.hist(z1,bins=20)\n",
    "plt.show()"
   ]
  },
  {
   "cell_type": "code",
   "execution_count": 14,
   "metadata": {},
   "outputs": [
    {
     "data": {
      "image/png": "[encoded data removed]",
      "text/plain": [
       "<Figure size 432x288 with 1 Axes>"
      ]
     },
     "metadata": {
      "needs_background": "light"
     },
     "output_type": "display_data"
    }
   ],
   "source": [
    "#z values for row 2 histogram\n",
    "plt.hist(z2,bins=20)\n",
    "plt.show()"
   ]
  },
  {
   "cell_type": "code",
   "execution_count": 15,
   "metadata": {},
   "outputs": [
    {
     "data": {
      "image/png": "[encoded data removed]",
      "text/plain": [
       "<Figure size 432x288 with 1 Axes>"
      ]
     },
     "metadata": {
      "needs_background": "light"
     },
     "output_type": "display_data"
    }
   ],
   "source": [
    "#z values for row 17 histogram\n",
    "plt.hist(z17,bins=20)\n",
    "plt.show()"
   ]
  },
  {
   "cell_type": "code",
   "execution_count": null,
   "metadata": {},
   "outputs": [],
   "source": []
  },
  {
   "cell_type": "code",
   "execution_count": null,
   "metadata": {},
   "outputs": [],
   "source": []
  }
 ],
 "metadata": {
  "kernelspec": {
   "display_name": "Python 3",
   "language": "python",
   "name": "python3"
  },
  "language_info": {
   "codemirror_mode": {
    "name": "ipython",
    "version": 3
   },
   "file_extension": ".py",
   "mimetype": "text/x-python",
   "name": "python",
   "nbconvert_exporter": "python",
   "pygments_lexer": "ipython3",
   "version": "3.7.3"
  }
 },
 "nbformat": 4,
 "nbformat_minor": 2
}
